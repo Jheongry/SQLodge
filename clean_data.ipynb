{
 "cells": [
  {
   "cell_type": "code",
   "execution_count": 239,
   "metadata": {},
   "outputs": [],
   "source": [
    "import pandas as pd\n",
    "import numpy as np"
   ]
  },
  {
   "cell_type": "code",
   "execution_count": 240,
   "metadata": {},
   "outputs": [
    {
     "name": "stdout",
     "output_type": "stream",
     "text": [
      "   index        id                            listing_url  \\\n",
      "0      0  33159143  https://www.airbnb.com/rooms/33159143   \n",
      "1      1  17138468  https://www.airbnb.com/rooms/17138468   \n",
      "2      2  21898446  https://www.airbnb.com/rooms/21898446   \n",
      "3      3  25948680  https://www.airbnb.com/rooms/25948680   \n",
      "4      4   1756516   https://www.airbnb.com/rooms/1756516   \n",
      "5      5  33395869  https://www.airbnb.com/rooms/33395869   \n",
      "6      6  14139907  https://www.airbnb.com/rooms/14139907   \n",
      "7      7  28055565  https://www.airbnb.com/rooms/28055565   \n",
      "8      8  19138413  https://www.airbnb.com/rooms/19138413   \n",
      "9      9  30342963  https://www.airbnb.com/rooms/30342963   \n",
      "\n",
      "                                                name  \\\n",
      "0   PRIVATE ROOM, SAFE NEIGHBORHOOD IN SCRIPPS RANCH   \n",
      "1                                      NOT AVAILABLE   \n",
      "2                          Townhome in Pacific Beach   \n",
      "3     Spacious furnished 1 BR with tons of amenaties   \n",
      "4                          A Spacious luxury retreat   \n",
      "5                         Room for Rent in Mira Mesa   \n",
      "6                     Cozy Room in La Jolla for rent   \n",
      "7  Unfurnished Master BDroom in San Diego Condomi...   \n",
      "8        A Gem in Cortez Hill of downtown, San Diego   \n",
      "9                             Family, Peace and Love   \n",
      "\n",
      "                                             summary  \\\n",
      "0  80% of the house + yourCozy room ... in Scripp...   \n",
      "1  AVAILABLE ONLY IN WINTER PRIME La Jolla Villag...   \n",
      "2  Hi! We are basically renting this master for a...   \n",
      "3  All my stuff will be gone. Dishwasher, washer/...   \n",
      "4  NIcely furnished. Great location, 2 blocks to ...   \n",
      "5  The room for rent is on a monthly basis.  It i...   \n",
      "6  We are currently looking for roommates to occu...   \n",
      "7  Unfurnished Master Bedroom For Long Term Guest...   \n",
      "8  Looking to rent a furnished room monthly? Here...   \n",
      "9  Available: 11/27 Lease: Month to month High-Sp...   \n",
      "\n",
      "                                               space  \\\n",
      "0                          Full bed, private bath...   \n",
      "1                                                NaN   \n",
      "2                                                NaN   \n",
      "3  Lobby provides free coffee. Building doors loc...   \n",
      "4                                                NaN   \n",
      "5  I am renting it out for 3 months while I am on...   \n",
      "6  We are currently looking for roommates to occu...   \n",
      "7                                                NaN   \n",
      "8                                                NaN   \n",
      "9  Close to schools, shopping, tennis courts, and...   \n",
      "\n",
      "                                         description  \\\n",
      "0  80% of the house + yourCozy room ... in Scripp...   \n",
      "1  AVAILABLE ONLY IN WINTER PRIME La Jolla Villag...   \n",
      "2  Hi! We are basically renting this master for a...   \n",
      "3  All my stuff will be gone. Dishwasher, washer/...   \n",
      "4  NIcely furnished. Great location, 2 blocks to ...   \n",
      "5  The room for rent is on a monthly basis.  It i...   \n",
      "6  We are currently looking for roommates to occu...   \n",
      "7  Unfurnished Master Bedroom For Long Term Guest...   \n",
      "8  Looking to rent a furnished room monthly? Here...   \n",
      "9  Available: 11/27 Lease: Month to month High-Sp...   \n",
      "\n",
      "                               neighborhood_overview  \\\n",
      "0  The neighborhood is a typical Southern Califor...   \n",
      "1                                                NaN   \n",
      "2                                                NaN   \n",
      "3                                       College area   \n",
      "4             coastal town great travel destination.   \n",
      "5                                                NaN   \n",
      "6                                 Quiet neighborhood   \n",
      "7                                                NaN   \n",
      "8                                                NaN   \n",
      "9                                                NaN   \n",
      "\n",
      "                                               notes  \\\n",
      "0  Have alarm system if you choose to use... I wi...   \n",
      "1                                                NaN   \n",
      "2                                                NaN   \n",
      "3                                                NaN   \n",
      "4                                                NaN   \n",
      "5                                                NaN   \n",
      "6                                                NaN   \n",
      "7  Please note that given the fact that this is a...   \n",
      "8                                                NaN   \n",
      "9  My husband and I live in the house right now. ...   \n",
      "\n",
      "                                             transit  ...  \\\n",
      "0  You can park in the drive way or plenty of spa...  ...   \n",
      "1                                                NaN  ...   \n",
      "2                                                NaN  ...   \n",
      "3  Across the street from the green line trolly. ...  ...   \n",
      "4                                  Bus line near by.  ...   \n",
      "5                                                NaN  ...   \n",
      "6                                                NaN  ...   \n",
      "7                                                NaN  ...   \n",
      "8                                                NaN  ...   \n",
      "9                                                NaN  ...   \n",
      "\n",
      "  review_scores_checkin review_scores_communication review_scores_location  \\\n",
      "0                   NaN                         NaN                    NaN   \n",
      "1                  10.0                        10.0                   10.0   \n",
      "2                   NaN                         NaN                    NaN   \n",
      "3                   NaN                         NaN                    NaN   \n",
      "4                   8.0                         8.0                    9.0   \n",
      "5                   NaN                         NaN                    NaN   \n",
      "6                   NaN                         NaN                    NaN   \n",
      "7                   NaN                         NaN                    NaN   \n",
      "8                   NaN                         NaN                    NaN   \n",
      "9                   NaN                         NaN                    NaN   \n",
      "\n",
      "  review_scores_value requires_license instant_bookable  \\\n",
      "0                 NaN                f                t   \n",
      "1                10.0                f                t   \n",
      "2                 NaN                f                t   \n",
      "3                 NaN                f                f   \n",
      "4                10.0                f                f   \n",
      "5                 NaN                f                t   \n",
      "6                 NaN                f                f   \n",
      "7                 NaN                f                t   \n",
      "8                 NaN                f                f   \n",
      "9                 NaN                f                f   \n",
      "\n",
      "  is_business_travel_ready          cancellation_policy  \\\n",
      "0                        f  strict_14_with_grace_period   \n",
      "1                        f  strict_14_with_grace_period   \n",
      "2                        f                     flexible   \n",
      "3                        f                     flexible   \n",
      "4                        f  strict_14_with_grace_period   \n",
      "5                        f                     flexible   \n",
      "6                        f                     flexible   \n",
      "7                        f                     flexible   \n",
      "8                        f  strict_14_with_grace_period   \n",
      "9                        f                     flexible   \n",
      "\n",
      "  require_guest_profile_picture require_guest_phone_verification  \n",
      "0                             f                                f  \n",
      "1                             f                                f  \n",
      "2                             f                                f  \n",
      "3                             f                                f  \n",
      "4                             f                                f  \n",
      "5                             f                                f  \n",
      "6                             f                                f  \n",
      "7                             f                                f  \n",
      "8                             f                                f  \n",
      "9                             f                                f  \n",
      "\n",
      "[10 rows x 76 columns]\n"
     ]
    },
    {
     "name": "stderr",
     "output_type": "stream",
     "text": [
      "/var/folders/bx/0m6t3kp16n10mbf470qqnmjw0000gn/T/ipykernel_2049/1576862903.py:2: DtypeWarning: Columns (1,13,14,25,44,55,57) have mixed types. Specify dtype option on import or set low_memory=False.\n",
      "  data = pd.read_csv('raw_data/listings.csv')\n"
     ]
    }
   ],
   "source": [
    "#extract data from the San Diego AirBnb dataset found here: https://www.kaggle.com/datasets/thedevastator/san-diego-airbnb-listings-august-2019?resource=download\n",
    "data = pd.read_csv('raw_data/listings.csv') \n",
    "print(data.head(10))"
   ]
  },
  {
   "cell_type": "code",
   "execution_count": 178,
   "metadata": {},
   "outputs": [
    {
     "name": "stdout",
     "output_type": "stream",
     "text": [
      "Index(['index', 'id', 'listing_url', 'name', 'summary', 'space', 'description',\n",
      "       'neighborhood_overview', 'notes', 'transit', 'access', 'interaction',\n",
      "       'house_rules', 'thumbnail_url', 'host_id', 'host_url', 'host_name',\n",
      "       'host_since', 'host_location', 'host_about', 'host_response_time',\n",
      "       'host_response_rate', 'host_acceptance_rate', 'host_is_superhost',\n",
      "       'host_neighbourhood', 'host_listings_count',\n",
      "       'host_total_listings_count', 'host_has_profile_pic',\n",
      "       'host_identity_verified', 'street', 'neighbourhood',\n",
      "       'neighbourhood_cleansed', 'city', 'state', 'zipcode', 'market',\n",
      "       'smart_location', 'country_code', 'country', 'latitude', 'longitude',\n",
      "       'is_location_exact', 'property_type', 'room_type', 'accommodates',\n",
      "       'bathrooms', 'bedrooms', 'beds', 'bed_type', 'amenities', 'square_feet',\n",
      "       'nightly_price', 'price_per_stay', 'security_deposit', 'cleaning_fee',\n",
      "       'guests_included', 'extra_people', 'minimum_nights', 'maximum_nights',\n",
      "       'number_of_reviews', 'number_of_stays', 'first_review', 'last_review',\n",
      "       'review_scores_rating', 'review_scores_accuracy',\n",
      "       'review_scores_cleanliness', 'review_scores_checkin',\n",
      "       'review_scores_communication', 'review_scores_location',\n",
      "       'review_scores_value', 'requires_license', 'instant_bookable',\n",
      "       'is_business_travel_ready', 'cancellation_policy',\n",
      "       'require_guest_profile_picture', 'require_guest_phone_verification'],\n",
      "      dtype='object')\n"
     ]
    }
   ],
   "source": [
    "columns = data.columns\n",
    "print(columns)"
   ]
  },
  {
   "cell_type": "code",
   "execution_count": 241,
   "metadata": {},
   "outputs": [],
   "source": [
    "cols_needed = ['index', 'id','name', 'description','host_id','host_name',\n",
    "               'host_listings_count','city','neighbourhood','zipcode','property_type',\n",
    "                'room_type', 'accommodates','bathrooms', 'bedrooms', 'amenities', \n",
    "                'square_feet', 'nightly_price', 'price_per_stay', 'number_of_reviews',\n",
    "                'review_scores_rating'\n",
    "                ] \n",
    "data = data.drop(columns = [col for col in columns if col not in cols_needed])"
   ]
  },
  {
   "cell_type": "code",
   "execution_count": 346,
   "metadata": {},
   "outputs": [],
   "source": [
    "properties_df = data[['id', 'host_id','name', 'property_type','nightly_price', 'zipcode',\n",
    "                     'city','neighbourhood','square_feet','accommodates',\n",
    "                     'bathrooms', 'bedrooms', 'amenities']]\n",
    "properties_df = properties_df.rename(columns={\"id\": \"property_id\", \"name\": \"property_name\",\n",
    "                               'nightly_price':'price_per_night',\n",
    "                                })\n",
    "\n",
    "#host_no_of_properties likely to be inaccurate\n",
    "owner_df = data[['host_id','host_name']]\n",
    "owner_df = owner_df.rename(columns = {'host_name':'name'})\n"
   ]
  },
  {
   "attachments": {},
   "cell_type": "markdown",
   "metadata": {},
   "source": [
    "## Create owner table"
   ]
  },
  {
   "cell_type": "code",
   "execution_count": 347,
   "metadata": {},
   "outputs": [
    {
     "name": "stdout",
     "output_type": "stream",
     "text": [
      "8011\n",
      "0\n"
     ]
    }
   ],
   "source": [
    "owner_df = owner_df.drop_duplicates()\n",
    "print(owner_df['host_id'].nunique())\n",
    "print(owner_df['host_id'].isna().sum())"
   ]
  },
  {
   "cell_type": "code",
   "execution_count": 348,
   "metadata": {},
   "outputs": [],
   "source": [
    "#due to mockaroo's maximimum output of 1000, will limit number of owners to 500.\n",
    "#property entries with this host_id will also be removed accordingly\n",
    "owner_df = owner_df.sample(n=500, random_state=1)"
   ]
  },
  {
   "cell_type": "code",
   "execution_count": 349,
   "metadata": {},
   "outputs": [],
   "source": [
    "owner_df = owner_df.reset_index(drop=True)\n",
    "owner_df = owner_df.reset_index()"
   ]
  },
  {
   "cell_type": "code",
   "execution_count": 350,
   "metadata": {},
   "outputs": [
    {
     "data": {
      "text/html": [
       "<div>\n",
       "<style scoped>\n",
       "    .dataframe tbody tr th:only-of-type {\n",
       "        vertical-align: middle;\n",
       "    }\n",
       "\n",
       "    .dataframe tbody tr th {\n",
       "        vertical-align: top;\n",
       "    }\n",
       "\n",
       "    .dataframe thead th {\n",
       "        text-align: right;\n",
       "    }\n",
       "</style>\n",
       "<table border=\"1\" class=\"dataframe\">\n",
       "  <thead>\n",
       "    <tr style=\"text-align: right;\">\n",
       "      <th></th>\n",
       "      <th>email</th>\n",
       "      <th>password</th>\n",
       "      <th>credit_card_no</th>\n",
       "    </tr>\n",
       "  </thead>\n",
       "  <tbody>\n",
       "    <tr>\n",
       "      <th>0</th>\n",
       "      <td>nmacfie0@yelp.com</td>\n",
       "      <td>vNsynoMv</td>\n",
       "      <td>5.048377e+15</td>\n",
       "    </tr>\n",
       "    <tr>\n",
       "      <th>1</th>\n",
       "      <td>zeckly1@youtu.be</td>\n",
       "      <td>nsHJPkaDDrUH</td>\n",
       "      <td>5.048378e+15</td>\n",
       "    </tr>\n",
       "  </tbody>\n",
       "</table>\n",
       "</div>"
      ],
      "text/plain": [
       "               email      password  credit_card_no\n",
       "0  nmacfie0@yelp.com      vNsynoMv    5.048377e+15\n",
       "1   zeckly1@youtu.be  nsHJPkaDDrUH    5.048378e+15"
      ]
     },
     "execution_count": 350,
     "metadata": {},
     "output_type": "execute_result"
    }
   ],
   "source": [
    "raw_owner_df = pd.read_csv('/Users/leeey/Downloads/prototype-it2002/raw_data/owner_table_raw.csv')\n",
    "raw_owner_df.head(2)"
   ]
  },
  {
   "cell_type": "code",
   "execution_count": 351,
   "metadata": {},
   "outputs": [],
   "source": [
    "raw_owner_df = raw_owner_df.reset_index()"
   ]
  },
  {
   "cell_type": "code",
   "execution_count": 352,
   "metadata": {},
   "outputs": [
    {
     "name": "stdout",
     "output_type": "stream",
     "text": [
      "   index   host_id   name              email      password  credit_card_no\n",
      "0      0  27699479  Corin  nmacfie0@yelp.com      vNsynoMv    5.048377e+15\n",
      "1      1  15614004    Eva   zeckly1@youtu.be  nsHJPkaDDrUH    5.048378e+15\n"
     ]
    }
   ],
   "source": [
    "owner_table_df = pd.merge(owner_df,raw_owner_df, on='index')\n",
    "print(owner_table_df.head(2))"
   ]
  },
  {
   "cell_type": "code",
   "execution_count": 353,
   "metadata": {},
   "outputs": [
    {
     "data": {
      "text/plain": [
       "(500, 6)"
      ]
     },
     "execution_count": 353,
     "metadata": {},
     "output_type": "execute_result"
    }
   ],
   "source": [
    "owner_table_df.shape"
   ]
  },
  {
   "cell_type": "code",
   "execution_count": 354,
   "metadata": {},
   "outputs": [],
   "source": [
    "#select 100 owners who also have a guest account to add to guests_table\n",
    "owners_who_are_guests = owner_table_df.sample(n=100, random_state=1)\n",
    "owners_who_are_guests = owners_who_are_guests.drop(['index','host_id'],axis=1)"
   ]
  },
  {
   "cell_type": "code",
   "execution_count": 355,
   "metadata": {},
   "outputs": [
    {
     "data": {
      "text/html": [
       "<div>\n",
       "<style scoped>\n",
       "    .dataframe tbody tr th:only-of-type {\n",
       "        vertical-align: middle;\n",
       "    }\n",
       "\n",
       "    .dataframe tbody tr th {\n",
       "        vertical-align: top;\n",
       "    }\n",
       "\n",
       "    .dataframe thead th {\n",
       "        text-align: right;\n",
       "    }\n",
       "</style>\n",
       "<table border=\"1\" class=\"dataframe\">\n",
       "  <thead>\n",
       "    <tr style=\"text-align: right;\">\n",
       "      <th></th>\n",
       "      <th>index</th>\n",
       "      <th>host_id</th>\n",
       "      <th>name</th>\n",
       "      <th>email</th>\n",
       "      <th>password</th>\n",
       "      <th>credit_card_no</th>\n",
       "    </tr>\n",
       "  </thead>\n",
       "  <tbody>\n",
       "    <tr>\n",
       "      <th>0</th>\n",
       "      <td>0</td>\n",
       "      <td>27699479</td>\n",
       "      <td>Corin</td>\n",
       "      <td>nmacfie0@yelp.com</td>\n",
       "      <td>vNsynoMv</td>\n",
       "      <td>5.048377e+15</td>\n",
       "    </tr>\n",
       "    <tr>\n",
       "      <th>1</th>\n",
       "      <td>1</td>\n",
       "      <td>15614004</td>\n",
       "      <td>Eva</td>\n",
       "      <td>zeckly1@youtu.be</td>\n",
       "      <td>nsHJPkaDDrUH</td>\n",
       "      <td>5.048378e+15</td>\n",
       "    </tr>\n",
       "    <tr>\n",
       "      <th>2</th>\n",
       "      <td>2</td>\n",
       "      <td>249722267</td>\n",
       "      <td>Sherri</td>\n",
       "      <td>dkeeri2@1688.com</td>\n",
       "      <td>5yAHaiZ</td>\n",
       "      <td>5.048379e+15</td>\n",
       "    </tr>\n",
       "    <tr>\n",
       "      <th>3</th>\n",
       "      <td>3</td>\n",
       "      <td>1389938</td>\n",
       "      <td>Scott</td>\n",
       "      <td>catter3@blogs.com</td>\n",
       "      <td>YxP1DLN</td>\n",
       "      <td>5.108755e+15</td>\n",
       "    </tr>\n",
       "    <tr>\n",
       "      <th>4</th>\n",
       "      <td>4</td>\n",
       "      <td>21983712</td>\n",
       "      <td>Kylie</td>\n",
       "      <td>mferie4@nasa.gov</td>\n",
       "      <td>76BYVa2</td>\n",
       "      <td>5.108751e+15</td>\n",
       "    </tr>\n",
       "    <tr>\n",
       "      <th>...</th>\n",
       "      <td>...</td>\n",
       "      <td>...</td>\n",
       "      <td>...</td>\n",
       "      <td>...</td>\n",
       "      <td>...</td>\n",
       "      <td>...</td>\n",
       "    </tr>\n",
       "    <tr>\n",
       "      <th>495</th>\n",
       "      <td>495</td>\n",
       "      <td>259477046</td>\n",
       "      <td>Roger</td>\n",
       "      <td>gstrutleydr@cornell.edu</td>\n",
       "      <td>xmwqBgFY</td>\n",
       "      <td>5.108758e+15</td>\n",
       "    </tr>\n",
       "    <tr>\n",
       "      <th>496</th>\n",
       "      <td>496</td>\n",
       "      <td>26508552</td>\n",
       "      <td>Ray</td>\n",
       "      <td>cisseleeds@ask.com</td>\n",
       "      <td>9zUNXhgx6IyV</td>\n",
       "      <td>5.108755e+15</td>\n",
       "    </tr>\n",
       "    <tr>\n",
       "      <th>497</th>\n",
       "      <td>497</td>\n",
       "      <td>92866068</td>\n",
       "      <td>Lata</td>\n",
       "      <td>ltregiendt@intel.com</td>\n",
       "      <td>pPTXaPl</td>\n",
       "      <td>5.108751e+15</td>\n",
       "    </tr>\n",
       "    <tr>\n",
       "      <th>498</th>\n",
       "      <td>498</td>\n",
       "      <td>9075328</td>\n",
       "      <td>Brianne</td>\n",
       "      <td>cattwaterdu@yelp.com</td>\n",
       "      <td>uWo9Ty</td>\n",
       "      <td>5.048379e+15</td>\n",
       "    </tr>\n",
       "    <tr>\n",
       "      <th>499</th>\n",
       "      <td>499</td>\n",
       "      <td>17891047</td>\n",
       "      <td>Burak</td>\n",
       "      <td>cmcmonniesdv@addthis.com</td>\n",
       "      <td>CTRweFhrqiv</td>\n",
       "      <td>5.108755e+15</td>\n",
       "    </tr>\n",
       "  </tbody>\n",
       "</table>\n",
       "<p>500 rows × 6 columns</p>\n",
       "</div>"
      ],
      "text/plain": [
       "     index    host_id     name                     email      password  \\\n",
       "0        0   27699479    Corin         nmacfie0@yelp.com      vNsynoMv   \n",
       "1        1   15614004      Eva          zeckly1@youtu.be  nsHJPkaDDrUH   \n",
       "2        2  249722267   Sherri          dkeeri2@1688.com       5yAHaiZ   \n",
       "3        3    1389938    Scott         catter3@blogs.com       YxP1DLN   \n",
       "4        4   21983712    Kylie          mferie4@nasa.gov       76BYVa2   \n",
       "..     ...        ...      ...                       ...           ...   \n",
       "495    495  259477046    Roger   gstrutleydr@cornell.edu      xmwqBgFY   \n",
       "496    496   26508552      Ray        cisseleeds@ask.com  9zUNXhgx6IyV   \n",
       "497    497   92866068     Lata      ltregiendt@intel.com       pPTXaPl   \n",
       "498    498    9075328  Brianne      cattwaterdu@yelp.com        uWo9Ty   \n",
       "499    499   17891047    Burak  cmcmonniesdv@addthis.com   CTRweFhrqiv   \n",
       "\n",
       "     credit_card_no  \n",
       "0      5.048377e+15  \n",
       "1      5.048378e+15  \n",
       "2      5.048379e+15  \n",
       "3      5.108755e+15  \n",
       "4      5.108751e+15  \n",
       "..              ...  \n",
       "495    5.108758e+15  \n",
       "496    5.108755e+15  \n",
       "497    5.108751e+15  \n",
       "498    5.048379e+15  \n",
       "499    5.108755e+15  \n",
       "\n",
       "[500 rows x 6 columns]"
      ]
     },
     "execution_count": 355,
     "metadata": {},
     "output_type": "execute_result"
    }
   ],
   "source": [
    "owner_table_df"
   ]
  },
  {
   "cell_type": "code",
   "execution_count": 356,
   "metadata": {},
   "outputs": [],
   "source": [
    "#remove unnecessary columns for owners\n",
    "owner_table_df = owner_table_df.drop(['index','credit_card_no'], axis=1)\n",
    "owner_table_csv_df = owner_table_df.drop(['host_id'], axis=1)"
   ]
  },
  {
   "cell_type": "code",
   "execution_count": 357,
   "metadata": {},
   "outputs": [],
   "source": [
    "#add quotes for later sql format\n",
    "owner_table_csv_df['name'] = \"'\" + owner_table_csv_df['name'].astype(str) + \"'\"\n",
    "owner_table_csv_df['email'] = \"'\" + owner_table_csv_df['email'].astype(str) + \"'\"\n",
    "owner_table_csv_df['password'] = \"'\" + owner_table_csv_df['password'].astype(str) + \"'\""
   ]
  },
  {
   "cell_type": "code",
   "execution_count": 358,
   "metadata": {},
   "outputs": [
    {
     "data": {
      "text/html": [
       "<div>\n",
       "<style scoped>\n",
       "    .dataframe tbody tr th:only-of-type {\n",
       "        vertical-align: middle;\n",
       "    }\n",
       "\n",
       "    .dataframe tbody tr th {\n",
       "        vertical-align: top;\n",
       "    }\n",
       "\n",
       "    .dataframe thead th {\n",
       "        text-align: right;\n",
       "    }\n",
       "</style>\n",
       "<table border=\"1\" class=\"dataframe\">\n",
       "  <thead>\n",
       "    <tr style=\"text-align: right;\">\n",
       "      <th></th>\n",
       "      <th>name</th>\n",
       "      <th>email</th>\n",
       "      <th>password</th>\n",
       "    </tr>\n",
       "  </thead>\n",
       "  <tbody>\n",
       "    <tr>\n",
       "      <th>0</th>\n",
       "      <td>'Corin'</td>\n",
       "      <td>'nmacfie0@yelp.com'</td>\n",
       "      <td>'vNsynoMv'</td>\n",
       "    </tr>\n",
       "    <tr>\n",
       "      <th>1</th>\n",
       "      <td>'Eva'</td>\n",
       "      <td>'zeckly1@youtu.be'</td>\n",
       "      <td>'nsHJPkaDDrUH'</td>\n",
       "    </tr>\n",
       "    <tr>\n",
       "      <th>2</th>\n",
       "      <td>'Sherri'</td>\n",
       "      <td>'dkeeri2@1688.com'</td>\n",
       "      <td>'5yAHaiZ'</td>\n",
       "    </tr>\n",
       "    <tr>\n",
       "      <th>3</th>\n",
       "      <td>'Scott'</td>\n",
       "      <td>'catter3@blogs.com'</td>\n",
       "      <td>'YxP1DLN'</td>\n",
       "    </tr>\n",
       "    <tr>\n",
       "      <th>4</th>\n",
       "      <td>'Kylie'</td>\n",
       "      <td>'mferie4@nasa.gov'</td>\n",
       "      <td>'76BYVa2'</td>\n",
       "    </tr>\n",
       "    <tr>\n",
       "      <th>...</th>\n",
       "      <td>...</td>\n",
       "      <td>...</td>\n",
       "      <td>...</td>\n",
       "    </tr>\n",
       "    <tr>\n",
       "      <th>495</th>\n",
       "      <td>'Roger'</td>\n",
       "      <td>'gstrutleydr@cornell.edu'</td>\n",
       "      <td>'xmwqBgFY'</td>\n",
       "    </tr>\n",
       "    <tr>\n",
       "      <th>496</th>\n",
       "      <td>'Ray'</td>\n",
       "      <td>'cisseleeds@ask.com'</td>\n",
       "      <td>'9zUNXhgx6IyV'</td>\n",
       "    </tr>\n",
       "    <tr>\n",
       "      <th>497</th>\n",
       "      <td>'Lata'</td>\n",
       "      <td>'ltregiendt@intel.com'</td>\n",
       "      <td>'pPTXaPl'</td>\n",
       "    </tr>\n",
       "    <tr>\n",
       "      <th>498</th>\n",
       "      <td>'Brianne'</td>\n",
       "      <td>'cattwaterdu@yelp.com'</td>\n",
       "      <td>'uWo9Ty'</td>\n",
       "    </tr>\n",
       "    <tr>\n",
       "      <th>499</th>\n",
       "      <td>'Burak'</td>\n",
       "      <td>'cmcmonniesdv@addthis.com'</td>\n",
       "      <td>'CTRweFhrqiv'</td>\n",
       "    </tr>\n",
       "  </tbody>\n",
       "</table>\n",
       "<p>500 rows × 3 columns</p>\n",
       "</div>"
      ],
      "text/plain": [
       "          name                       email        password\n",
       "0      'Corin'         'nmacfie0@yelp.com'      'vNsynoMv'\n",
       "1        'Eva'          'zeckly1@youtu.be'  'nsHJPkaDDrUH'\n",
       "2     'Sherri'          'dkeeri2@1688.com'       '5yAHaiZ'\n",
       "3      'Scott'         'catter3@blogs.com'       'YxP1DLN'\n",
       "4      'Kylie'          'mferie4@nasa.gov'       '76BYVa2'\n",
       "..         ...                         ...             ...\n",
       "495    'Roger'   'gstrutleydr@cornell.edu'      'xmwqBgFY'\n",
       "496      'Ray'        'cisseleeds@ask.com'  '9zUNXhgx6IyV'\n",
       "497     'Lata'      'ltregiendt@intel.com'       'pPTXaPl'\n",
       "498  'Brianne'      'cattwaterdu@yelp.com'        'uWo9Ty'\n",
       "499    'Burak'  'cmcmonniesdv@addthis.com'   'CTRweFhrqiv'\n",
       "\n",
       "[500 rows x 3 columns]"
      ]
     },
     "execution_count": 358,
     "metadata": {},
     "output_type": "execute_result"
    }
   ],
   "source": [
    "owner_table_csv_df"
   ]
  },
  {
   "cell_type": "code",
   "execution_count": 359,
   "metadata": {},
   "outputs": [],
   "source": [
    "# download csv of owner_table\n",
    "## owner_table_csv_df.to_csv('owners_table.csv', index=False)"
   ]
  },
  {
   "cell_type": "markdown",
   "metadata": {},
   "source": [
    "Create guests table"
   ]
  },
  {
   "cell_type": "code",
   "execution_count": 360,
   "metadata": {},
   "outputs": [
    {
     "name": "stdout",
     "output_type": "stream",
     "text": [
      "             name                  email      password  credit_card_no\n",
      "0    Nanny Dudman       ndudman0@mail.ru       Fdoipja    5.048374e+15\n",
      "1    Dorey Finkle   dfinkle1@oaic.gov.au   Aim4tREQont    5.048377e+15\n",
      "2  Erroll Krysiak  ekrysiak2@nbcnews.com  IFRxqF0B0p6J    5.108754e+15\n"
     ]
    }
   ],
   "source": [
    "#create guests table from mockaroo data\n",
    "#500 rows generated. credit_card_no all from the US, 20% of credit_card_no is left blank, 10% of name left blank to be filled in with repeat values\n",
    "guest_df = pd.read_csv('/Users/leeey/Downloads/prototype-it2002/raw_data/guest_table_raw.csv') \n",
    "print(guest_df.head(3))"
   ]
  },
  {
   "cell_type": "code",
   "execution_count": 361,
   "metadata": {},
   "outputs": [
    {
     "data": {
      "text/plain": [
       "(500, 4)"
      ]
     },
     "execution_count": 361,
     "metadata": {},
     "output_type": "execute_result"
    }
   ],
   "source": [
    "guest_df.shape"
   ]
  },
  {
   "cell_type": "code",
   "execution_count": 362,
   "metadata": {},
   "outputs": [
    {
     "data": {
      "text/plain": [
       "(500, 4)"
      ]
     },
     "execution_count": 362,
     "metadata": {},
     "output_type": "execute_result"
    }
   ],
   "source": [
    "#ensure that emails are all unique\n",
    "guest_df = guest_df.drop_duplicates(subset=['email'], keep='first')\n",
    "guest_df.shape"
   ]
  },
  {
   "cell_type": "code",
   "execution_count": 363,
   "metadata": {},
   "outputs": [
    {
     "name": "stdout",
     "output_type": "stream",
     "text": [
      "51\n",
      "0\n"
     ]
    }
   ],
   "source": [
    "#fill in repeat values of name using closest row above each NA value\n",
    "print(guest_df['name'].isna().sum())\n",
    "guest_df['name'] = guest_df['name'].fillna(method='ffill')\n",
    "print(guest_df['name'].isna().sum())"
   ]
  },
  {
   "cell_type": "code",
   "execution_count": 364,
   "metadata": {},
   "outputs": [
    {
     "name": "stderr",
     "output_type": "stream",
     "text": [
      "/var/folders/bx/0m6t3kp16n10mbf470qqnmjw0000gn/T/ipykernel_2049/447354538.py:1: FutureWarning: The frame.append method is deprecated and will be removed from pandas in a future version. Use pandas.concat instead.\n",
      "  guest_df = guest_df.append(owners_who_are_guests, ignore_index = True)\n"
     ]
    }
   ],
   "source": [
    "guest_df = guest_df.append(owners_who_are_guests, ignore_index = True)"
   ]
  },
  {
   "cell_type": "code",
   "execution_count": 365,
   "metadata": {},
   "outputs": [
    {
     "name": "stdout",
     "output_type": "stream",
     "text": [
      "600\n",
      "121\n"
     ]
    }
   ],
   "source": [
    "# check that all emails are still unique\n",
    "print(guest_df['email'].value_counts().sum())\n",
    "\n",
    "# check for percentage of blanks in credit_card_no\n",
    "print(guest_df['credit_card_no'].isna().sum())"
   ]
  },
  {
   "cell_type": "code",
   "execution_count": 366,
   "metadata": {},
   "outputs": [],
   "source": [
    "#add quotes for later sql format\n",
    "guest_df['name'] = \"'\" + guest_df['name'].astype(str) + \"'\"\n",
    "guest_df['email'] = \"'\" + guest_df['email'].astype(str) + \"'\"\n",
    "guest_df['password'] = \"'\" + guest_df['password'].astype(str) + \"'\""
   ]
  },
  {
   "cell_type": "code",
   "execution_count": 367,
   "metadata": {},
   "outputs": [],
   "source": [
    "guest_df['credit_card_no'] = guest_df['credit_card_no'].fillna('NULL')"
   ]
  },
  {
   "cell_type": "code",
   "execution_count": 368,
   "metadata": {},
   "outputs": [],
   "source": [
    "# export guest_df to csv format\n",
    "## guest_df.to_csv('guests_table.csv', index=False)"
   ]
  },
  {
   "attachments": {},
   "cell_type": "markdown",
   "metadata": {},
   "source": [
    "## Create properties table"
   ]
  },
  {
   "cell_type": "code",
   "execution_count": 369,
   "metadata": {},
   "outputs": [
    {
     "name": "stdout",
     "output_type": "stream",
     "text": [
      "(13052, 13)\n",
      "(819, 13)\n",
      "Index(['property_id', 'host_id', 'property_name', 'property_type',\n",
      "       'price_per_night', 'zipcode', 'city', 'neighbourhood', 'square_feet',\n",
      "       'accommodates', 'bathrooms', 'bedrooms', 'amenities'],\n",
      "      dtype='object')\n"
     ]
    }
   ],
   "source": [
    "print(properties_df.shape)\n",
    "properties_df = properties_df[properties_df.host_id.isin(owner_table_df.host_id)]\n",
    "print(properties_df.shape)\n",
    "print(properties_df.columns)"
   ]
  },
  {
   "cell_type": "code",
   "execution_count": 370,
   "metadata": {},
   "outputs": [],
   "source": [
    "# need to change host_id to host email instead\n",
    "properties_df = properties_df.merge(owner_table_df[['host_id','email']], how='inner', on= 'host_id') \n",
    "properties_df = properties_df.loc[:, ['property_id', 'email', 'property_name', 'property_type',\n",
    "       'price_per_night', 'zipcode', 'city', 'neighbourhood', 'square_feet',\n",
    "       'accommodates', 'bathrooms', 'bedrooms', 'amenities']]"
   ]
  },
  {
   "cell_type": "code",
   "execution_count": 371,
   "metadata": {},
   "outputs": [
    {
     "data": {
      "text/plain": [
       "Index(['property_id', 'email', 'property_name', 'property_type',\n",
       "       'price_per_night', 'zipcode', 'city', 'neighbourhood', 'square_feet',\n",
       "       'accommodates', 'bathrooms', 'bedrooms', 'amenities'],\n",
       "      dtype='object')"
      ]
     },
     "execution_count": 371,
     "metadata": {},
     "output_type": "execute_result"
    }
   ],
   "source": [
    "properties_df.columns"
   ]
  },
  {
   "cell_type": "code",
   "execution_count": 374,
   "metadata": {},
   "outputs": [],
   "source": [
    "#add quotes for later sql format\n",
    "properties_str_cols = ['email', 'property_name', 'property_type','city', 'neighbourhood','amenities']\n",
    "for col in properties_str_cols:\n",
    "    properties_df[col] = \"'\" + properties_df[col].astype(str) + \"'\""
   ]
  },
  {
   "cell_type": "code",
   "execution_count": 372,
   "metadata": {},
   "outputs": [],
   "source": [
    "properties_num_cols = ['property_id','price_per_night', 'zipcode','square_feet',\n",
    "                       'accommodates', 'bathrooms', 'bedrooms']\n",
    "for col in properties_num_cols:\n",
    "    properties_df[col] = properties_df[col].fillna('NULL')"
   ]
  },
  {
   "cell_type": "code",
   "execution_count": 377,
   "metadata": {},
   "outputs": [
    {
     "data": {
      "text/plain": [
       "dtype('O')"
      ]
     },
     "execution_count": 377,
     "metadata": {},
     "output_type": "execute_result"
    }
   ],
   "source": [
    "properties_df['price_per_night'][0].dtype"
   ]
  },
  {
   "cell_type": "code",
   "execution_count": 376,
   "metadata": {},
   "outputs": [],
   "source": [
    "# export properties_df to csv format\n",
    "properties_df.to_csv('properties_table.csv', index=False)"
   ]
  },
  {
   "attachments": {},
   "cell_type": "markdown",
   "metadata": {},
   "source": [
    "## Create bookings table"
   ]
  },
  {
   "cell_type": "code",
   "execution_count": 225,
   "metadata": {},
   "outputs": [],
   "source": [
    "# mockaroo used to generate 100 rows of start_date, duaration and calculated end_date based off first two columns \n",
    "# start_date can range from 01/01/2021 to 03/20/2023\n",
    "# duration can range from 1 to 30 days\n",
    "booking_df = pd.read_csv('/Users/leeey/Downloads/prototype-it2002/raw_data/bookings_table_raw.csv') "
   ]
  },
  {
   "cell_type": "code",
   "execution_count": 226,
   "metadata": {},
   "outputs": [
    {
     "name": "stdout",
     "output_type": "stream",
     "text": [
      "                      email                  owner_email property_id\n",
      "0          ndudman0@mail.ru  tjaumet2k@howstuffworks.com     6372898\n",
      "1          ndudman0@mail.ru  tjaumet2k@howstuffworks.com     2965336\n",
      "2          ndudman0@mail.ru        kmcmeekan72@bbc.co.uk     7871918\n",
      "3          ndudman0@mail.ru            tlampsl@topsy.com    32286661\n",
      "4          ndudman0@mail.ru           drabat9u@apple.com    29452722\n",
      "...                     ...                          ...         ...\n",
      "491395  gullyatt32@army.mil         agraffin4q@opera.com    19273736\n",
      "491396  gullyatt32@army.mil          ckerrey92@mysql.com     1487384\n",
      "491397  gullyatt32@army.mil      rgarritley5k@nature.com    34548630\n",
      "491398  gullyatt32@army.mil         scrasforda9@army.mil    20437139\n",
      "491399  gullyatt32@army.mil      rsalvadore5o@flavors.me    34649201\n",
      "\n",
      "[491400 rows x 3 columns]\n"
     ]
    }
   ],
   "source": [
    "# generate random combinations of owner email, guest email and property_id\n",
    "# make sure that properties are not double booked (or maybe dont care then SQL can check for it)\n",
    "owner_property_df = properties_df[['email', 'property_id']].rename({'email':'owner_email'}, axis =1)\n",
    "booking_entities_df = guest_df[['email']].rename({'email':'guest_email'}).join(owner_property_df, how = 'cross')\n",
    "print(booking_entities_df)"
   ]
  },
  {
   "cell_type": "code",
   "execution_count": 227,
   "metadata": {},
   "outputs": [
    {
     "name": "stdout",
     "output_type": "stream",
     "text": [
      "   index                    email              owner_email property_id\n",
      "0      0     hmcvicard@zimbio.com  moakly38@friendfeed.com    26630989\n",
      "1      1  oarckolldv@symantec.com      alevett65@wufoo.com    28781817\n"
     ]
    }
   ],
   "source": [
    "# select 100 rows randomly to generate 100 bookings randomly\n",
    "booking_entities_df = booking_entities_df.sample(n=100, random_state=1)\n",
    "booking_entities_df = booking_entities_df.reset_index(drop =True)\n",
    "booking_entities_df = booking_entities_df.reset_index()\n",
    "print(booking_entities_df.head(2))"
   ]
  },
  {
   "cell_type": "code",
   "execution_count": 228,
   "metadata": {},
   "outputs": [],
   "source": [
    "booking_df = booking_df.reset_index()"
   ]
  },
  {
   "cell_type": "code",
   "execution_count": 229,
   "metadata": {},
   "outputs": [],
   "source": [
    "booking_table_df = pd.merge(booking_entities_df,booking_df, on='index')"
   ]
  },
  {
   "cell_type": "code",
   "execution_count": 289,
   "metadata": {},
   "outputs": [],
   "source": [
    "booking_table_df = booking_table_df.drop(['index'], axis=1)"
   ]
  },
  {
   "cell_type": "code",
   "execution_count": 290,
   "metadata": {},
   "outputs": [
    {
     "data": {
      "text/html": [
       "<div>\n",
       "<style scoped>\n",
       "    .dataframe tbody tr th:only-of-type {\n",
       "        vertical-align: middle;\n",
       "    }\n",
       "\n",
       "    .dataframe tbody tr th {\n",
       "        vertical-align: top;\n",
       "    }\n",
       "\n",
       "    .dataframe thead th {\n",
       "        text-align: right;\n",
       "    }\n",
       "</style>\n",
       "<table border=\"1\" class=\"dataframe\">\n",
       "  <thead>\n",
       "    <tr style=\"text-align: right;\">\n",
       "      <th></th>\n",
       "      <th>email</th>\n",
       "      <th>owner_email</th>\n",
       "      <th>property_id</th>\n",
       "      <th>start_date</th>\n",
       "      <th>duration</th>\n",
       "      <th>end_date</th>\n",
       "    </tr>\n",
       "  </thead>\n",
       "  <tbody>\n",
       "    <tr>\n",
       "      <th>0</th>\n",
       "      <td>hmcvicard@zimbio.com</td>\n",
       "      <td>moakly38@friendfeed.com</td>\n",
       "      <td>26630989</td>\n",
       "      <td>2021-08-30 19:46:16</td>\n",
       "      <td>10</td>\n",
       "      <td>2021-09-09 19:46:16</td>\n",
       "    </tr>\n",
       "    <tr>\n",
       "      <th>1</th>\n",
       "      <td>oarckolldv@symantec.com</td>\n",
       "      <td>alevett65@wufoo.com</td>\n",
       "      <td>28781817</td>\n",
       "      <td>2021-05-17 22:26:15</td>\n",
       "      <td>24</td>\n",
       "      <td>2021-06-10 22:26:15</td>\n",
       "    </tr>\n",
       "    <tr>\n",
       "      <th>2</th>\n",
       "      <td>tblake3x@amazon.co.jp</td>\n",
       "      <td>bkaretas@irs.gov</td>\n",
       "      <td>35492459</td>\n",
       "      <td>2021-12-13 14:18:19</td>\n",
       "      <td>20</td>\n",
       "      <td>2022-01-02 14:18:19</td>\n",
       "    </tr>\n",
       "    <tr>\n",
       "      <th>3</th>\n",
       "      <td>ccatterson30@360.cn</td>\n",
       "      <td>bpentin9q@google.es</td>\n",
       "      <td>11720963</td>\n",
       "      <td>2021-11-06 11:25:42</td>\n",
       "      <td>9</td>\n",
       "      <td>2021-11-15 11:25:42</td>\n",
       "    </tr>\n",
       "    <tr>\n",
       "      <th>4</th>\n",
       "      <td>acartmail8j@omniture.com</td>\n",
       "      <td>aizac7i@yandex.ru</td>\n",
       "      <td>26196827</td>\n",
       "      <td>2022-07-12 18:56:42</td>\n",
       "      <td>3</td>\n",
       "      <td>2022-07-15 18:56:42</td>\n",
       "    </tr>\n",
       "    <tr>\n",
       "      <th>...</th>\n",
       "      <td>...</td>\n",
       "      <td>...</td>\n",
       "      <td>...</td>\n",
       "      <td>...</td>\n",
       "      <td>...</td>\n",
       "      <td>...</td>\n",
       "    </tr>\n",
       "    <tr>\n",
       "      <th>95</th>\n",
       "      <td>jresdalea3@sciencedirect.com</td>\n",
       "      <td>dlidgeycd@youtube.com</td>\n",
       "      <td>37569194</td>\n",
       "      <td>2021-02-25 08:38:40</td>\n",
       "      <td>1</td>\n",
       "      <td>2021-02-26 08:38:40</td>\n",
       "    </tr>\n",
       "    <tr>\n",
       "      <th>96</th>\n",
       "      <td>vbartak3z@shareasale.com</td>\n",
       "      <td>vpeytoco@princeton.edu</td>\n",
       "      <td>960655</td>\n",
       "      <td>2021-12-26 11:17:42</td>\n",
       "      <td>27</td>\n",
       "      <td>2022-01-22 11:17:42</td>\n",
       "    </tr>\n",
       "    <tr>\n",
       "      <th>97</th>\n",
       "      <td>mhackett2f@vinaora.com</td>\n",
       "      <td>moakly38@friendfeed.com</td>\n",
       "      <td>19487368</td>\n",
       "      <td>2023-01-01 13:23:27</td>\n",
       "      <td>19</td>\n",
       "      <td>2023-01-20 13:23:27</td>\n",
       "    </tr>\n",
       "    <tr>\n",
       "      <th>98</th>\n",
       "      <td>ssebastian3r@google.pl</td>\n",
       "      <td>wrimbault2s@ucla.edu</td>\n",
       "      <td>2483060</td>\n",
       "      <td>2022-07-09 23:46:24</td>\n",
       "      <td>16</td>\n",
       "      <td>2022-07-25 23:46:24</td>\n",
       "    </tr>\n",
       "    <tr>\n",
       "      <th>99</th>\n",
       "      <td>erosenthal1b@bloomberg.com</td>\n",
       "      <td>bgarrals59@google.ru</td>\n",
       "      <td>18377405</td>\n",
       "      <td>2022-10-24 18:53:53</td>\n",
       "      <td>2</td>\n",
       "      <td>2022-10-26 18:53:53</td>\n",
       "    </tr>\n",
       "  </tbody>\n",
       "</table>\n",
       "<p>100 rows × 6 columns</p>\n",
       "</div>"
      ],
      "text/plain": [
       "                           email              owner_email property_id  \\\n",
       "0           hmcvicard@zimbio.com  moakly38@friendfeed.com    26630989   \n",
       "1        oarckolldv@symantec.com      alevett65@wufoo.com    28781817   \n",
       "2          tblake3x@amazon.co.jp         bkaretas@irs.gov    35492459   \n",
       "3            ccatterson30@360.cn      bpentin9q@google.es    11720963   \n",
       "4       acartmail8j@omniture.com        aizac7i@yandex.ru    26196827   \n",
       "..                           ...                      ...         ...   \n",
       "95  jresdalea3@sciencedirect.com    dlidgeycd@youtube.com    37569194   \n",
       "96      vbartak3z@shareasale.com   vpeytoco@princeton.edu      960655   \n",
       "97        mhackett2f@vinaora.com  moakly38@friendfeed.com    19487368   \n",
       "98        ssebastian3r@google.pl     wrimbault2s@ucla.edu     2483060   \n",
       "99    erosenthal1b@bloomberg.com     bgarrals59@google.ru    18377405   \n",
       "\n",
       "             start_date  duration             end_date  \n",
       "0   2021-08-30 19:46:16        10  2021-09-09 19:46:16  \n",
       "1   2021-05-17 22:26:15        24  2021-06-10 22:26:15  \n",
       "2   2021-12-13 14:18:19        20  2022-01-02 14:18:19  \n",
       "3   2021-11-06 11:25:42         9  2021-11-15 11:25:42  \n",
       "4   2022-07-12 18:56:42         3  2022-07-15 18:56:42  \n",
       "..                  ...       ...                  ...  \n",
       "95  2021-02-25 08:38:40         1  2021-02-26 08:38:40  \n",
       "96  2021-12-26 11:17:42        27  2022-01-22 11:17:42  \n",
       "97  2023-01-01 13:23:27        19  2023-01-20 13:23:27  \n",
       "98  2022-07-09 23:46:24        16  2022-07-25 23:46:24  \n",
       "99  2022-10-24 18:53:53         2  2022-10-26 18:53:53  \n",
       "\n",
       "[100 rows x 6 columns]"
      ]
     },
     "execution_count": 290,
     "metadata": {},
     "output_type": "execute_result"
    }
   ],
   "source": [
    "booking_table_df"
   ]
  },
  {
   "cell_type": "code",
   "execution_count": 291,
   "metadata": {},
   "outputs": [],
   "source": [
    "# export booking_table_df to csv format\n",
    "booking_table_df.to_csv('bookings_table.csv', index=False)"
   ]
  },
  {
   "attachments": {},
   "cell_type": "markdown",
   "metadata": {},
   "source": [
    "## Create wishlist table"
   ]
  },
  {
   "cell_type": "code",
   "execution_count": 232,
   "metadata": {},
   "outputs": [
    {
     "name": "stdout",
     "output_type": "stream",
     "text": [
      "                guest_email property_id\n",
      "0          ndudman0@mail.ru     6372898\n",
      "1          ndudman0@mail.ru     2965336\n",
      "2          ndudman0@mail.ru     7871918\n",
      "3          ndudman0@mail.ru    32286661\n",
      "4          ndudman0@mail.ru    29452722\n",
      "...                     ...         ...\n",
      "491395  gullyatt32@army.mil    19273736\n",
      "491396  gullyatt32@army.mil     1487384\n",
      "491397  gullyatt32@army.mil    34548630\n",
      "491398  gullyatt32@army.mil    20437139\n",
      "491399  gullyatt32@army.mil    34649201\n",
      "\n",
      "[491400 rows x 2 columns]\n"
     ]
    }
   ],
   "source": [
    "wishlist_df = guest_df[['email']].rename({'email':'guest_email'}, axis=1).join(properties_df[['property_id']], how='cross')\n",
    "print(wishlist_df)"
   ]
  },
  {
   "cell_type": "code",
   "execution_count": 233,
   "metadata": {},
   "outputs": [],
   "source": [
    "#create 500 wishlist entries by sampling randomly from all possible combinations of guest_email and property_id\n",
    "wishlist_df =  wishlist_df.sample(n=500, random_state=2)"
   ]
  },
  {
   "cell_type": "code",
   "execution_count": 238,
   "metadata": {},
   "outputs": [],
   "source": [
    "# export wishlist_df to csv format\n",
    "##wishlist_df.to_csv('wishlist_table.csv', index=False)"
   ]
  },
  {
   "cell_type": "code",
   "execution_count": null,
   "metadata": {},
   "outputs": [],
   "source": []
  }
 ],
 "metadata": {
  "kernelspec": {
   "display_name": "base",
   "language": "python",
   "name": "python3"
  },
  "language_info": {
   "codemirror_mode": {
    "name": "ipython",
    "version": 3
   },
   "file_extension": ".py",
   "mimetype": "text/x-python",
   "name": "python",
   "nbconvert_exporter": "python",
   "pygments_lexer": "ipython3",
   "version": "3.9.13"
  },
  "orig_nbformat": 4
 },
 "nbformat": 4,
 "nbformat_minor": 2
}
